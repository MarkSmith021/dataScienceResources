{
  "metadata": {
    "language_info": {
      "codemirror_mode": {
        "name": "python",
        "version": 3
      },
      "file_extension": ".py",
      "mimetype": "text/x-python",
      "name": "python",
      "nbconvert_exporter": "python",
      "pygments_lexer": "ipython3",
      "version": "3.8"
    },
    "kernelspec": {
      "name": "python",
      "display_name": "Python (Pyodide)",
      "language": "python"
    }
  },
  "nbformat_minor": 4,
  "nbformat": 4,
  "cells": [
    {
      "cell_type": "markdown",
      "source": "# IMPORT SEABORN",
      "metadata": {}
    },
    {
      "cell_type": "code",
      "source": "import seaborn as sns",
      "metadata": {},
      "execution_count": null,
      "outputs": []
    },
    {
      "cell_type": "markdown",
      "source": "# IMPORTING MATPLOTLIB AS WELL FOR A LIL COMPARISON AHEAD",
      "metadata": {}
    },
    {
      "cell_type": "code",
      "source": "import matplotlib.pyplot as plt",
      "metadata": {
        "trusted": true
      },
      "execution_count": 3,
      "outputs": []
    },
    {
      "cell_type": "markdown",
      "source": "# PLOTTING A BASIC LINEAR GRAPH USING BOTH LIBRARIES",
      "metadata": {}
    },
    {
      "cell_type": "code",
      "source": "a = [1,2,3,4]\nb = [2,4,6,8]\n\nplt.plot(a,b, color = \"green\")\nplt.show()",
      "metadata": {
        "trusted": true
      },
      "execution_count": 8,
      "outputs": [
        {
          "output_type": "display_data",
          "data": {
            "text/plain": "<Figure size 640x480 with 1 Axes>",
            "image/png": "[encoded data removed]"
          },
          "metadata": {}
        }
      ]
    },
    {
      "cell_type": "code",
      "source": "a = [1,2,3,4]\nb = [2,4,6,8]\n\nsns.lineplot(x = a, y = b)\nplt.show()",
      "metadata": {},
      "execution_count": null,
      "outputs": []
    },
    {
      "cell_type": "markdown",
      "source": "# HOW TO USE PANDA'S DATAFRAME WITH SEABORN TO CREATE A LINEAR PLOT",
      "metadata": {}
    },
    {
      "cell_type": "markdown",
      "source": "##### Use the same values of the keys in the dataframe for the x and y values in the lineplot() method's parameter. Otherwise it would raise a value error.",
      "metadata": {}
    },
    {
      "cell_type": "code",
      "source": "import pandas as pd\n\na = [1,2,3,4]\nb = [2,4,6,8]\n\ndf = pd.DataFrame({\"X-axis\": a, \"Y-axis\": b})\nsns.lineplot(x = \"X-axis\", y = \"Y-axis\", data = df)\nplt.show()",
      "metadata": {
        "trusted": true
      },
      "execution_count": null,
      "outputs": []
    },
    {
      "cell_type": "markdown",
      "source": "# USING AN EXAMPLE DATASET TO PLOT A LINEAR GRAPH",
      "metadata": {}
    },
    {
      "cell_type": "code",
      "source": "import seaborn as sns\nimport matplotlib.pyplot as plt\nimport pandas as pd\n\ndf = sns.load_dataset(\"penguins\")\n\nsns.lineplot(x = \"bill_length_mm\", y = \"flipper_length_mm\", data = df)\nplt.show()",
      "metadata": {},
      "execution_count": null,
      "outputs": []
    },
    {
      "cell_type": "markdown",
      "source": "# HOW TO PLOT CATEGORICAL PLOTS WITH SEABORN",
      "metadata": {}
    },
    {
      "cell_type": "markdown",
      "source": "##### To achieve this, we assign the hue parameter of seaborn's lineplot method the value of the notion which is segregated into categories. For example, sex can be segregated into male and female. This will show the desired plot with the keys to identify the categories as well.",
      "metadata": {}
    },
    {
      "cell_type": "code",
      "source": "import seaborn as sns\nimport matplotlib.pyplot as plt\nimport pandas as pd\n\ndf = sns.load_dataset(\"penguins\")\n\nsns.lineplot(x = \"bill_length_mm\", y = \"flipper_length_mm\", data = df, hue = \"sex\")\nplt.show()",
      "metadata": {},
      "execution_count": null,
      "outputs": []
    },
    {
      "cell_type": "markdown",
      "source": "# HOW TO CHANGE THE COLOR OF LINES IN THE PLOT\n\n##### Seaborn provides us with \"palette\" attribute in the lineplot() module which could be assigned a value to change the color of the lines. \"rocket_r\" is one of the many palettes that seaborn provides us with",
      "metadata": {}
    },
    {
      "cell_type": "code",
      "source": "sns.lineplot(x = \"bill_length_mm\", y = \"flipper_length_mm\", data = df, hue = \"sex\", palette = \"rocket_r\")\nplt.show()",
      "metadata": {},
      "execution_count": null,
      "outputs": []
    },
    {
      "cell_type": "markdown",
      "source": "# HOW TO ADD MARKERS TO THE GRAPH TO IDENTIFY THE CATEGORIES EASILY\n\n##### We need to harness the style and markers attribute in the lineplot() module for this purpose",
      "metadata": {}
    },
    {
      "cell_type": "code",
      "source": "sns.lineplot(x = \"bill_length_mm\", y = \"flipper_length_mm\", data = df, hue = \"sex\", palette = \"rocket_r\", style = \"sex\", markers = [\"o\", \">\"])\nplt.show()",
      "metadata": {},
      "execution_count": null,
      "outputs": []
    },
    {
      "cell_type": "markdown",
      "source": "# HOW TO ADD GRID TO THE GRAPH FOR MORE DETAILED PRESENTATION AND CHANGE THE NAME OF X AND Y AXIS LABELS\n\n##### The same grid() and xlabel() and ylabel() module of matplotlib.pyplot are used for creating grids in the diagram and overwriting the names of the x and y labels respectively ",
      "metadata": {}
    },
    {
      "cell_type": "code",
      "source": "sns.lineplot(x = \"bill_length_mm\", y = \"flipper_length_mm\", data = df, hue = \"sex\", palette = \"rocket_r\", style = \"sex\", markers = [\"o\", \">\"])\nplt.grid()\nplt.xlabel(\"Bill Length\")\nplt.ylabel(\"Flipper Length\")\nplt.show()",
      "metadata": {},
      "execution_count": null,
      "outputs": []
    },
    {
      "cell_type": "markdown",
      "source": "# HOW TO ADD TITLE TO THE DIAGRAM\n\n##### The title() method of matplotlib.pyplot is used for this purpose",
      "metadata": {}
    },
    {
      "cell_type": "code",
      "source": "sns.lineplot(x = \"bill_length_mm\", y = \"flipper_length_mm\", data = df, hue = \"sex\", palette = \"rocket_r\", style = \"sex\", markers = [\"o\", \">\"])\nplt.grid()\nplt.title(\"Bill Length and Flipper Length wrt Sex\")\nplt.xlabel(\"Bill Length\")\nplt.ylabel(\"Flipper Length\")\nplt.show()",
      "metadata": {},
      "execution_count": null,
      "outputs": []
    },
    {
      "cell_type": "markdown",
      "source": "###### If you do not want to pass in the entire dataframe as a value to the data attribute in the lineplot() method, you could also do this",
      "metadata": {}
    },
    {
      "cell_type": "code",
      "source": "import seaborn as sns\nimport matplotlib.pyplot as plt\nimport pandas as pd\n\ndf = sns.load_dataset(\"penguins\")\n\nsns.lineplot(x = df.bill_length_mm, y = df.flipper_length_mm, hue = df.sex, palette = \"rocket_r\", style = df.sex, markers = [\"o\", \">\"])\nplt.grid()\nplt.show()",
      "metadata": {},
      "execution_count": null,
      "outputs": []
    },
    {
      "cell_type": "markdown",
      "source": "# HOW TO DRAW A BAR PLOT USING SEABORN\n\n##### If you want to assign the data attribute the value of entire dataset",
      "metadata": {}
    },
    {
      "cell_type": "code",
      "source": "import seaborn as sns\nimport matplotlib.pyplot as plt\nimport pandas as pd\n\ndf = sns.load_dataset(\"penguins\")\n\nsns.barplot(x = \"island\" , y = \"bill_length_mm\", data = df, palette = \"rocket_r\")\n\nplt.grid()\nplt.show()",
      "metadata": {},
      "execution_count": null,
      "outputs": []
    },
    {
      "cell_type": "markdown",
      "source": "##### If you do not want to assign the data attribute the value of entire dataset",
      "metadata": {}
    },
    {
      "cell_type": "code",
      "source": "import seaborn as sns\nimport matplotlib.pyplot as plt\nimport pandas as pd\n\ndf = sns.load_dataset(\"penguins\")\n\nsns.barplot(x = df.island, y = df.bill_length_mm, palette = \"rocket_r\")\n\nplt.grid()\nplt.show()",
      "metadata": {},
      "execution_count": null,
      "outputs": []
    },
    {
      "cell_type": "markdown",
      "source": "##### Here too, you could use the hue attribute to segregate the data with respect to categories of a notion.",
      "metadata": {}
    },
    {
      "cell_type": "code",
      "source": "import seaborn as sns\nimport matplotlib.pyplot as plt\nimport pandas as pd\n\ndf = sns.load_dataset(\"penguins\")\n\nsns.barplot(x = df.island, y = df.bill_length_mm, palette = \"rocket_r\", hue = df.sex)\n\nplt.grid()\nplt.show()",
      "metadata": {},
      "execution_count": null,
      "outputs": []
    },
    {
      "cell_type": "code",
      "source": "import seaborn as sns\nimport matplotlib.pyplot as plt\nimport pandas as pd\n\ndf = sns.load_dataset(\"penguins\")\n\nsns.barplot(x = \"island\" , y = \"bill_length_mm\", data = df, palette = \"rocket_r\", hue = \"sex\")\n\nplt.grid()\nplt.show()",
      "metadata": {},
      "execution_count": null,
      "outputs": []
    },
    {
      "cell_type": "markdown",
      "source": "# ORDER AND HUE_ORDER ATTRIBUTES\n\n##### Running the above code furnishes us with a diagram in which the islands are shown as follows on the x axis: Torgersen, Biscoe, and Dream. If we want to alter this order, we could use order attribute.",
      "metadata": {}
    },
    {
      "cell_type": "code",
      "source": "import seaborn as sns\nimport matplotlib.pyplot as plt\nimport pandas as pd\n\ndf = sns.load_dataset(\"penguins\")\n\nsns.barplot(x = \"island\" , y = \"bill_length_mm\", data = df, palette = \"rocket_r\", hue = \"sex\", order = [\"Dream\",\"Biscoe\",\"Torgersen\"])\n\nplt.grid()\nplt.show()",
      "metadata": {},
      "execution_count": null,
      "outputs": []
    },
    {
      "cell_type": "markdown",
      "source": "##### Similarly if we want to alter the order of the hue i.e what is displayed first male or female penguin in the diagram, we could do that using hue_order attribute",
      "metadata": {}
    },
    {
      "cell_type": "code",
      "source": "import seaborn as sns\nimport matplotlib.pyplot as plt\nimport pandas as pd\n\ndf = sns.load_dataset(\"penguins\")\n\nsns.barplot(x = \"island\" , y = \"bill_length_mm\", data = df, palette = \"rocket_r\", hue = \"sex\", order = [\"Dream\",\"Biscoe\",\"Torgersen\"], hue_order = [\"Male\",\"Female\"])\n\nplt.grid()\nplt.show()",
      "metadata": {},
      "execution_count": null,
      "outputs": []
    },
    {
      "cell_type": "markdown",
      "source": "# COLOR ATTRIBUTE FOR BAR PLOTS\n\n##### If you want to change the color of all the bars in the diagram to a specific color, you could use the color attribute to do so. However, one of the segregated category would receive a default color. On the contrary if you want to assign different color to different bars, then harness the palette attribute instead.",
      "metadata": {}
    },
    {
      "cell_type": "code",
      "source": "import seaborn as sns\nimport matplotlib.pyplot as plt\nimport pandas as pd\n\ndf = sns.load_dataset(\"penguins\")\n\nsns.barplot(x = \"island\" , y = \"bill_length_mm\", data = df, color = \"cyan\", hue = \"sex\", order = [\"Dream\",\"Biscoe\",\"Torgersen\"], hue_order = [\"Female\", \"Male\"])\n\nplt.grid()\nplt.show()",
      "metadata": {},
      "execution_count": null,
      "outputs": []
    },
    {
      "cell_type": "markdown",
      "source": "# SATURATION ATTRIBUTE FOR BAR PLOTS\n\n##### You could modify the color of the diagram further by modifying the saturation attribute",
      "metadata": {}
    },
    {
      "cell_type": "code",
      "source": "import seaborn as sns\nimport matplotlib.pyplot as plt\nimport pandas as pd\n\ndf = sns.load_dataset(\"penguins\")\n\nsns.barplot(x = \"island\" , y = \"bill_length_mm\", data = df, color = \"cyan\", saturation = 0.1, hue = \"sex\", order = [\"Dream\",\"Biscoe\",\"Torgersen\"], hue_order = [\"Female\", \"Male\"])\n\nplt.grid()\nplt.show()",
      "metadata": {},
      "execution_count": null,
      "outputs": []
    },
    {
      "cell_type": "markdown",
      "source": "# HOW TO PLOT A HISTOGRAM USING SEABORN LIBRARY\n\n##### Either method could be used",
      "metadata": {}
    },
    {
      "cell_type": "code",
      "source": "sns.displot(df[\"flipper_length_mm\"])",
      "metadata": {},
      "execution_count": null,
      "outputs": []
    },
    {
      "cell_type": "code",
      "source": "sns.displot(df.flipper_length_mm)\n",
      "metadata": {},
      "execution_count": null,
      "outputs": []
    },
    {
      "cell_type": "markdown",
      "source": "# HOW TO ADJUST THE INTERVALS OF THE HISTOGRAM USING THE BINS ATTRIBUTE",
      "metadata": {}
    },
    {
      "cell_type": "code",
      "source": "sns.displot(df[\"flipper_length_mm\"], bins = [170,180,190,200,210,220,230])\nplt.grid()\nplt.show()",
      "metadata": {},
      "execution_count": null,
      "outputs": []
    },
    {
      "cell_type": "markdown",
      "source": "# HOW TO ADJUST THE COLOR OF THE HISTOGRAM USING THE COLOR ATTRIBUTE",
      "metadata": {}
    },
    {
      "cell_type": "code",
      "source": "sns.displot(df[\"flipper_length_mm\"], bins = [170,180,190,200,210,220,230], color = \"cyan\")\nplt.grid()\nplt.show()",
      "metadata": {},
      "execution_count": null,
      "outputs": []
    },
    {
      "cell_type": "markdown",
      "source": "# HOW TO DISPLAY THE KDE OF THE HISTOGRAM",
      "metadata": {}
    },
    {
      "cell_type": "code",
      "source": "sns.displot(df[\"flipper_length_mm\"], bins = [170,180,190,200,210,220,230], color = \"cyan\", kde = True)\nplt.grid()\nplt.show()",
      "metadata": {},
      "execution_count": null,
      "outputs": []
    }
  ]
}